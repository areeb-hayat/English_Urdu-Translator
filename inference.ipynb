{
 "cells": [
  {
   "cell_type": "code",
   "execution_count": 6,
   "id": "73315d6b-df18-4e64-a5d9-34496a8be310",
   "metadata": {},
   "outputs": [
    {
     "name": "stdout",
     "output_type": "stream",
     "text": [
      "Original: Who am I?\n",
      "Translated: میں کون کون ہوں\n"
     ]
    }
   ],
   "source": [
    "import torch\n",
    "from transformers import AutoTokenizer, AutoModelForSeq2SeqLM\n",
    "\n",
    "device = torch.device(\"cuda\" if torch.cuda.is_available() else \"cpu\")\n",
    "\n",
    "model_path = \"D:/University/Semester VIII/GenAI/Assignment 2/Q3/urdu_translation_model\"\n",
    "tokenizer = AutoTokenizer.from_pretrained(model_path)\n",
    "model = AutoModelForSeq2SeqLM.from_pretrained(model_path).to(device)\n",
    "model.eval()\n",
    "\n",
    "\n",
    "def translate_sentence(sentence, model, tokenizer, max_length=128):\n",
    "    inputs = tokenizer(sentence, return_tensors=\"pt\", padding=True, truncation=True, max_length=max_length).to(device)\n",
    "    with torch.no_grad():\n",
    "        generated_ids = model.generate(inputs['input_ids'], attention_mask=inputs['attention_mask'], max_length=max_length)\n",
    "\n",
    "    translated_sentence = tokenizer.decode(generated_ids[0], skip_special_tokens=True)\n",
    "    return translated_sentence\n",
    "\n",
    "sentence = \"Who am I?\"\n",
    "translation = translate_sentence(sentence, model, tokenizer)\n",
    "\n",
    "print(f\"Original: {sentence}\")\n",
    "print(f\"Translated: {translation}\")\n"
   ]
  },
  {
   "cell_type": "code",
   "execution_count": null,
   "id": "e8c0d158-e0e4-4dfb-97c4-5fe3f2dbe0ca",
   "metadata": {},
   "outputs": [],
   "source": []
  },
  {
   "cell_type": "code",
   "execution_count": null,
   "id": "14a04a6c-bb71-42cc-972a-83c7add0eeae",
   "metadata": {},
   "outputs": [],
   "source": []
  }
 ],
 "metadata": {
  "kernelspec": {
   "display_name": "Python 3 (ipykernel)",
   "language": "python",
   "name": "python3"
  },
  "language_info": {
   "codemirror_mode": {
    "name": "ipython",
    "version": 3
   },
   "file_extension": ".py",
   "mimetype": "text/x-python",
   "name": "python",
   "nbconvert_exporter": "python",
   "pygments_lexer": "ipython3",
   "version": "3.12.3"
  }
 },
 "nbformat": 4,
 "nbformat_minor": 5
}
